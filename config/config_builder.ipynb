{
 "cells": [
  {
   "cell_type": "code",
   "execution_count": 1,
   "id": "80da4fde",
   "metadata": {},
   "outputs": [
    {
     "name": "stdout",
     "output_type": "stream",
     "text": [
      "Configuration file created at config\\config.json\n"
     ]
    }
   ],
   "source": [
    "import json\n",
    "import os\n",
    "\n",
    "# Configuration data to be written\n",
    "config_data = {\n",
    "    \"data_path\": \"./data/raw/diabetes.csv\",\n",
    "    \"processed_data_path\": \"./data/processed/diabetes_processed.csv\"\n",
    "}\n",
    "\n",
    "# Specify the directory and file path\n",
    "config_directory = 'config'\n",
    "config_file_path = os.path.join(config_directory, 'config.json')\n",
    "\n",
    "# Create the config directory if it does not exist\n",
    "if not os.path.exists(config_directory):\n",
    "    os.makedirs(config_directory)\n",
    "\n",
    "# Write the configuration data to config.json\n",
    "with open(config_file_path, 'w') as config_file:\n",
    "    json.dump(config_data, config_file, indent=4)\n",
    "\n",
    "print(f\"Configuration file created at {config_file_path}\")\n"
   ]
  },
  {
   "cell_type": "code",
   "execution_count": null,
   "id": "e228478a",
   "metadata": {},
   "outputs": [],
   "source": []
  }
 ],
 "metadata": {
  "kernelspec": {
   "display_name": "Python 3 (ipykernel)",
   "language": "python",
   "name": "python3"
  },
  "language_info": {
   "codemirror_mode": {
    "name": "ipython",
    "version": 3
   },
   "file_extension": ".py",
   "mimetype": "text/x-python",
   "name": "python",
   "nbconvert_exporter": "python",
   "pygments_lexer": "ipython3",
   "version": "3.10.13"
  }
 },
 "nbformat": 4,
 "nbformat_minor": 5
}
