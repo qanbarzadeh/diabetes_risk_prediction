{
 "cells": [
  {
   "cell_type": "code",
   "execution_count": 1,
   "id": "61dfe091",
   "metadata": {},
   "outputs": [
    {
     "name": "stdout",
     "output_type": "stream",
     "text": [
      "Current Working Directory: C:\\Users\\ali\\diabetes_risk_prediction\n"
     ]
    }
   ],
   "source": [
    "import os\n",
    "\n",
    "# Print the current working directory\n",
    "current_directory = os.getcwd()\n",
    "print(f\"Current Working Directory: {current_directory}\")\n"
   ]
  },
  {
   "cell_type": "code",
   "execution_count": 2,
   "id": "c6601da2",
   "metadata": {},
   "outputs": [
    {
     "name": "stdout",
     "output_type": "stream",
     "text": [
      "./\n",
      "    Project_directory_helper.ipynb\n",
      "    .ipynb_checkpoints/\n",
      "        Project_directory_helper-checkpoint.ipynb\n",
      "    data/\n",
      "        interim/\n",
      "        processed/\n",
      "        raw/\n",
      "    models/\n",
      "    notebooks/\n",
      "        01_data_collection.ipynb\n",
      "        02_data_cleaning_and_preprocessing.ipynb\n",
      "        03_exploratory_data_analysis.ipynb\n",
      "        04_feature_engineering.ipynb\n",
      "        05_modeling.ipynb\n",
      "        06_evaluation_and_interpretation.ipynb\n",
      "    reports/\n",
      "        figures/\n",
      "        model_performance_reports.md/\n",
      "    requirements.txt/\n",
      "    src/\n",
      "        data/\n",
      "            collect.py\n",
      "            preprocess.py\n",
      "        features/\n",
      "            build_features.py\n",
      "            utils.py\n",
      "        models/\n",
      "            predict_model.py\n",
      "            train_model.py\n",
      "        visualization/\n",
      "            visualize.py\n",
      "        __init__.py/\n"
     ]
    }
   ],
   "source": [
    "for dirpath, dirnames, filenames in os.walk(\".\"):\n",
    "    level = dirpath.replace('.', '').count(os.sep)\n",
    "    indent = ' ' * 4 * level\n",
    "    print(f\"{indent}{os.path.basename(dirpath)}/\")\n",
    "    subindent = ' ' * 4 * (level + 1)\n",
    "    for f in filenames:\n",
    "        print(f\"{subindent}{f}\")\n"
   ]
  },
  {
   "cell_type": "code",
   "execution_count": null,
   "id": "c79606b8",
   "metadata": {},
   "outputs": [],
   "source": []
  }
 ],
 "metadata": {
  "kernelspec": {
   "display_name": "Python 3 (ipykernel)",
   "language": "python",
   "name": "python3"
  },
  "language_info": {
   "codemirror_mode": {
    "name": "ipython",
    "version": 3
   },
   "file_extension": ".py",
   "mimetype": "text/x-python",
   "name": "python",
   "nbconvert_exporter": "python",
   "pygments_lexer": "ipython3",
   "version": "3.11.5"
  }
 },
 "nbformat": 4,
 "nbformat_minor": 5
}
