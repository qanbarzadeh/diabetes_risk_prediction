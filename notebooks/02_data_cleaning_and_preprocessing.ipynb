{
 "cells": [
  {
   "cell_type": "code",
   "execution_count": 9,
   "id": "d6164aa6",
   "metadata": {},
   "outputs": [
    {
     "name": "stderr",
     "output_type": "stream",
     "text": [
      "2024-02-25 15:16:59,626 - INFO - Data saved successfully to ..\\data\\processed\\diabetes_processed.csv\n"
     ]
    }
   ],
   "source": [
    "import pandas as pd\n",
    "import numpy as np\n",
    "from sklearn.impute import SimpleImputer\n",
    "from sklearn.preprocessing import StandardScaler\n",
    "import json\n",
    "import logging\n",
    "from pathlib import Path\n",
    "\n",
    "# Configure logging\n",
    "logging.basicConfig(level=logging.INFO, format='%(asctime)s - %(levelname)s - %(message)s')\n",
    "\n",
    "def load_config(config_path='../config/config.json'):\n",
    "    \"\"\"Loads configuration from a JSON file.\"\"\"\n",
    "    try:\n",
    "        with open(config_path, 'r') as file:\n",
    "            return json.load(file)\n",
    "    except FileNotFoundError:\n",
    "        logging.error(f\"Configuration file not found: {config_path}\")\n",
    "        return None\n",
    "\n",
    "def load_data(file_path):\n",
    "    \"\"\"Loads data from the specified file path.\"\"\"\n",
    "    try:\n",
    "        return pd.read_csv(file_path)\n",
    "    except FileNotFoundError:\n",
    "        logging.error(f\"File not found: {file_path}\")\n",
    "        return None\n",
    "    except pd.errors.EmptyDataError:\n",
    "        logging.error(\"File is empty.\")\n",
    "        return None\n",
    "    except Exception as e:\n",
    "        logging.error(f\"An error occurred while loading the dataset: {e}\")\n",
    "        return None\n",
    "\n",
    "def preprocess_data(data):\n",
    "    \"\"\"Preprocesses the dataset.\"\"\"\n",
    "    # Identify and handle missing values\n",
    "    columns_with_zeros = ['Glucose', 'BloodPressure', 'SkinThickness', 'Insulin', 'BMI']\n",
    "    data[columns_with_zeros] = data[columns_with_zeros].replace(0, np.nan)\n",
    "    \n",
    "    # Impute missing values using the median\n",
    "    imputer = SimpleImputer(strategy='median')\n",
    "    data[columns_with_zeros] = imputer.fit_transform(data[columns_with_zeros])\n",
    "    \n",
    "    # Feature scaling\n",
    "    scaler = StandardScaler()\n",
    "    columns_to_scale = data.columns.drop('Outcome')\n",
    "    data_scaled = pd.DataFrame(scaler.fit_transform(data[columns_to_scale]), columns=columns_to_scale)\n",
    "    data_scaled['Outcome'] = data['Outcome']\n",
    "    \n",
    "    return data_scaled\n",
    "\n",
    "def save_data(data, file_path):\n",
    "    \"\"\"Saves the preprocessed data to the specified file path.\"\"\"\n",
    "    try:\n",
    "        data.to_csv(file_path, index=False)\n",
    "        logging.info(f\"Data saved successfully to {file_path}\")\n",
    "    except Exception as e:\n",
    "        logging.error(f\"Failed to save data: {e}\")\n",
    "\n",
    "def main():\n",
    "    config = load_config()\n",
    "    if config is None:\n",
    "        return\n",
    "    \n",
    "    data_path = Path(config['data_path'])\n",
    "    processed_data_path = Path(config['processed_data_path'])\n",
    "    \n",
    "    diabetes_data = load_data(data_path)\n",
    "    if diabetes_data is not None:\n",
    "        preprocessed_data = preprocess_data(diabetes_data)\n",
    "        save_data(preprocessed_data, processed_data_path)\n",
    "\n",
    "if __name__ == \"__main__\":\n",
    "    main()\n"
   ]
  },
  {
   "cell_type": "code",
   "execution_count": null,
   "id": "1af2d593",
   "metadata": {},
   "outputs": [],
   "source": []
  }
 ],
 "metadata": {
  "kernelspec": {
   "display_name": "Python 3 (ipykernel)",
   "language": "python",
   "name": "python3"
  },
  "language_info": {
   "codemirror_mode": {
    "name": "ipython",
    "version": 3
   },
   "file_extension": ".py",
   "mimetype": "text/x-python",
   "name": "python",
   "nbconvert_exporter": "python",
   "pygments_lexer": "ipython3",
   "version": "3.10.13"
  }
 },
 "nbformat": 4,
 "nbformat_minor": 5
}
