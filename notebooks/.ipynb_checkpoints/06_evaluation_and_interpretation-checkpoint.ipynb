{
 "cells": [
  {
   "cell_type": "code",
   "execution_count": 1,
   "id": "ffbc948d",
   "metadata": {},
   "outputs": [
    {
     "name": "stdout",
     "output_type": "stream",
     "text": [
      "C:\\Users\\ali\\diabetes_risk_prediction\\notebooks\n"
     ]
    }
   ],
   "source": [
    "import os\n",
    "print(os.getcwd())"
   ]
  },
  {
   "cell_type": "code",
   "execution_count": 3,
   "id": "fa7f7124",
   "metadata": {},
   "outputs": [],
   "source": [
    "import sys\n",
    "from pathlib import Path\n",
    "\n",
    "helpers_path = Path(\"C:\\\\Users\\\\ali\\\\diabetes_risk_prediction\\\\Helpers\")\n",
    "\n",
    "# Now, appending the correct variable to sys.path\n",
    "sys.path.append(str(helpers_path))\n",
    "\n",
    "# Since you've appended the Helpers directory to sys.path, you can directly import load_config\n",
    "from data_helpers import load_config\n",
    "\n",
    "import pandas as pd\n",
    "import logging\n",
    "from sklearn.metrics import accuracy_score, precision_score, recall_score, f1_score, roc_auc_score, roc_curve, auc\n",
    "import matplotlib.pyplot as plt\n",
    "\n",
    "# Configure logging\n",
    "logging.basicConfig(level=logging.INFO, format='%(asctime)s - %(levelname)s - %(message)s')\n",
    "\n",
    "# Define the path to your configuration file here\n",
    "config_path = \"C:\\\\Users\\\\ali\\\\diabetes_risk_prediction\"\n"
   ]
  },
  {
   "cell_type": "code",
   "execution_count": 4,
   "id": "2905416f",
   "metadata": {},
   "outputs": [
    {
     "name": "stderr",
     "output_type": "stream",
     "text": [
      "2024-03-11 16:17:04,811 - ERROR - An unexpected error occurred while loading configuration: [Errno 13] Permission denied: 'C:\\\\Users\\\\ali\\\\diabetes_risk_prediction'\n",
      "2024-03-11 16:17:04,812 - ERROR - Failed to load feature-engineered dataset: 'NoneType' object is not subscriptable\n"
     ]
    },
    {
     "ename": "AttributeError",
     "evalue": "'NoneType' object has no attribute 'drop'",
     "output_type": "error",
     "traceback": [
      "\u001b[1;31m---------------------------------------------------------------------------\u001b[0m",
      "\u001b[1;31mAttributeError\u001b[0m                            Traceback (most recent call last)",
      "Cell \u001b[1;32mIn[4], line 33\u001b[0m\n\u001b[0;32m     30\u001b[0m df \u001b[38;5;241m=\u001b[39m load_feature_engineered_data(config_path) \n\u001b[0;32m     32\u001b[0m \u001b[38;5;66;03m# Assuming 'df' is loaded with feature-engineered data\u001b[39;00m\n\u001b[1;32m---> 33\u001b[0m X \u001b[38;5;241m=\u001b[39m \u001b[43mdf\u001b[49m\u001b[38;5;241;43m.\u001b[39;49m\u001b[43mdrop\u001b[49m(\u001b[38;5;124m'\u001b[39m\u001b[38;5;124mOutcome\u001b[39m\u001b[38;5;124m'\u001b[39m, axis\u001b[38;5;241m=\u001b[39m\u001b[38;5;241m1\u001b[39m)  \u001b[38;5;66;03m# Adjust column name as per your dataset\u001b[39;00m\n\u001b[0;32m     34\u001b[0m y \u001b[38;5;241m=\u001b[39m df[\u001b[38;5;124m'\u001b[39m\u001b[38;5;124mOutcome\u001b[39m\u001b[38;5;124m'\u001b[39m]\n\u001b[0;32m     35\u001b[0m X_train, X_test, y_train, y_test \u001b[38;5;241m=\u001b[39m train_test_split(X, y, test_size\u001b[38;5;241m=\u001b[39m\u001b[38;5;241m0.2\u001b[39m, random_state\u001b[38;5;241m=\u001b[39m\u001b[38;5;241m42\u001b[39m)\n",
      "\u001b[1;31mAttributeError\u001b[0m: 'NoneType' object has no attribute 'drop'"
     ]
    }
   ],
   "source": [
    "\n",
    "import pandas as pd\n",
    "import logging\n",
    "from sklearn.metrics import accuracy_score, precision_score, recall_score, f1_score, roc_auc_score, roc_curve, auc\n",
    "import matplotlib.pyplot as plt\n",
    "\n",
    "\n",
    "# Configure logging\n",
    "logging.basicConfig(level=logging.INFO, format='%(asctime)s - %(levelname)s - %(message)s')\n",
    "\n",
    "def load_feature_engineered_data(config_path):\n",
    "    \"\"\"\n",
    "    Loads the feature-engineered dataset from the specified path in the config file.\n",
    "    \n",
    "    Parameters:\n",
    "    - config_path: Path to the configuration file.\n",
    "\n",
    "    Returns:\n",
    "    - DataFrame containing the feature-engineered data or None if an error occurs.\n",
    "    \"\"\"\n",
    "    try:\n",
    "        config = load_config(config_path)\n",
    "        processed_data_path = config['processed_data_path']\n",
    "        df = pd.read_csv(processed_data_path)\n",
    "        logging.info(\"Feature-engineered dataset successfully loaded.\")\n",
    "        return df\n",
    "    except Exception as e:\n",
    "        logging.error(f\"Failed to load feature-engineered dataset: {e}\")\n",
    "        return None\n",
    "    \n",
    "df = load_feature_engineered_data(config_path) \n",
    "\n",
    "# Assuming 'df' is loaded with feature-engineered data\n",
    "X = df.drop('Outcome', axis=1)  # Adjust column name as per your dataset\n",
    "y = df['Outcome']\n",
    "X_train, X_test, y_train, y_test = train_test_split(X, y, test_size=0.2, random_state=42)\n",
    "\n",
    "# Define a range of models for exploration\n",
    "models = {\n",
    "    \"RandomForest\": RandomForestClassifier(random_state=42),\n",
    "    \"GradientBoosting\": GradientBoostingClassifier(random_state=42),\n",
    "    \"XGBoost\": XGBClassifier(use_label_encoder=False, eval_metric='logloss'),\n",
    "    \"SVM\": SVC(probability=True, random_state=42),\n",
    "    \"MLP\": MLPClassifier(random_state=42)\n",
    "}\n",
    "\n",
    "# Hyperparameter space for XGBoost as an example\n",
    "param_distributions = {\n",
    "    'n_estimators': np.arange(50, 401, 50),\n",
    "    'max_depth': np.arange(3, 11),\n",
    "    'learning_rate': np.linspace(0.01, 0.2, 10)\n",
    "}\n",
    "\n",
    "# Setup RandomizedSearchCV for hyperparameter tuning\n",
    "random_search = RandomizedSearchCV(\n",
    "    estimator=models['XGBoost'],\n",
    "    param_distributions=param_distributions,\n",
    "    n_iter=100,\n",
    "    scoring='roc_auc',\n",
    "    cv=5,\n",
    "    random_state=42,\n",
    "    verbose=1\n",
    ")\n",
    "\n",
    "# Conduct the hyperparameter tuning\n",
    "random_search.fit(X_train, y_train)\n",
    "\n",
    "# Select the best model\n",
    "best_model = random_search.best_estimator_\n",
    "\n",
    "\n",
    "\n",
    "# Perform the random search on the training data\n",
    "random_search.fit(X_train, y_train)\n",
    "\n",
    "\n",
    "\n",
    "# Serialize the model\n",
    "dump(best_model, 'final_model.joblib')     \n",
    "\n",
    "\n",
    "# Evaluation Metrics\n",
    "y_pred_proba = best_model.predict_proba(X_test)[:, 1]\n",
    "print(f\"ROC AUC Score: {roc_auc_score(y_test, y_pred_proba)}\")\n",
    "\n",
    "\n",
    "\n",
    "# ROC Curve\n",
    "fpr, tpr, _ = roc_curve(y_test, y_pred_proba)\n",
    "roc_auc = auc(fpr, tpr)\n",
    "plt.figure()\n",
    "plt.plot(fpr, tpr, label='ROC curve (area = %0.2f)' % roc_auc)\n",
    "plt.plot([0, 1], [0, 1], linestyle='--')\n",
    "plt.xlabel('False Positive Rate')\n",
    "plt.ylabel('True Positive Rate')\n",
    "plt.title('Receiver Operating Characteristic')\n",
    "plt.legend(loc=\"lower right\")\n",
    "plt.show()"
   ]
  },
  {
   "cell_type": "code",
   "execution_count": null,
   "id": "40d44445",
   "metadata": {},
   "outputs": [],
   "source": []
  }
 ],
 "metadata": {
  "kernelspec": {
   "display_name": "Python 3 (ipykernel)",
   "language": "python",
   "name": "python3"
  },
  "language_info": {
   "codemirror_mode": {
    "name": "ipython",
    "version": 3
   },
   "file_extension": ".py",
   "mimetype": "text/x-python",
   "name": "python",
   "nbconvert_exporter": "python",
   "pygments_lexer": "ipython3",
   "version": "3.10.13"
  }
 },
 "nbformat": 4,
 "nbformat_minor": 5
}
