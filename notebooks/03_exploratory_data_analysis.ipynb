{
 "cells": [
  {
   "cell_type": "code",
   "execution_count": 2,
   "id": "e4910861",
   "metadata": {},
   "outputs": [
    {
     "ename": "NameError",
     "evalue": "name 'diabetes_data' is not defined",
     "output_type": "error",
     "traceback": [
      "\u001b[1;31m---------------------------------------------------------------------------\u001b[0m",
      "\u001b[1;31mNameError\u001b[0m                                 Traceback (most recent call last)",
      "Cell \u001b[1;32mIn[2], line 13\u001b[0m\n\u001b[0;32m     10\u001b[0m     plt\u001b[38;5;241m.\u001b[39mtight_layout()\n\u001b[0;32m     11\u001b[0m     plt\u001b[38;5;241m.\u001b[39mshow()\n\u001b[1;32m---> 13\u001b[0m numerical_features \u001b[38;5;241m=\u001b[39m \u001b[43mdiabetes_data\u001b[49m\u001b[38;5;241m.\u001b[39mselect_dtypes(include\u001b[38;5;241m=\u001b[39m[\u001b[38;5;124m'\u001b[39m\u001b[38;5;124mfloat64\u001b[39m\u001b[38;5;124m'\u001b[39m, \u001b[38;5;124m'\u001b[39m\u001b[38;5;124mint64\u001b[39m\u001b[38;5;124m'\u001b[39m])\u001b[38;5;241m.\u001b[39mcolumns\u001b[38;5;241m.\u001b[39mtolist()\n\u001b[0;32m     14\u001b[0m plot_feature_distribution(diabetes_data, numerical_features)\n",
      "\u001b[1;31mNameError\u001b[0m: name 'diabetes_data' is not defined"
     ]
    }
   ],
   "source": [
    "'''Step 1: Understanding the Distribution of Each Feature'''\n",
    "\n",
    "def plot_feature_distribution(df, features):\n",
    "    fig, ax = plt.subplots(len(features), 1, figsize=(8, 4 * len(features)))\n",
    "    for i, feature in enumerate(features):\n",
    "        sns.histplot(df[feature], kde=True, ax=ax[i])\n",
    "        ax[i].set_title(f'Distribution of {feature}')\n",
    "        ax[i].set_xlabel('')\n",
    "        ax[i].set_ylabel('Frequency')\n",
    "    plt.tight_layout()\n",
    "    plt.show()\n",
    "\n",
    "numerical_features = diabetes_data.select_dtypes(include=['float64', 'int64']).columns.tolist()\n",
    "plot_feature_distribution(diabetes_data, numerical_features)\n",
    "\n"
   ]
  },
  {
   "cell_type": "code",
   "execution_count": null,
   "id": "5e629830",
   "metadata": {},
   "outputs": [],
   "source": []
  }
 ],
 "metadata": {
  "kernelspec": {
   "display_name": "Python 3 (ipykernel)",
   "language": "python",
   "name": "python3"
  },
  "language_info": {
   "codemirror_mode": {
    "name": "ipython",
    "version": 3
   },
   "file_extension": ".py",
   "mimetype": "text/x-python",
   "name": "python",
   "nbconvert_exporter": "python",
   "pygments_lexer": "ipython3",
   "version": "3.10.13"
  }
 },
 "nbformat": 4,
 "nbformat_minor": 5
}
